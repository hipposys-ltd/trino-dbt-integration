{
 "cells": [
  {
   "cell_type": "code",
   "execution_count": 1,
   "id": "b4e24ef7-b446-4c78-b117-d4b3014212ed",
   "metadata": {},
   "outputs": [],
   "source": [
    "import os\n",
    "\n",
    "def run_dbt_script(dbt_script):\n",
    "    project_path = '../dbt/PostgresDbt'\n",
    "    target_name = 'container'\n",
    "    exclude = 'TrinoIngestionDbt'\n",
    "    deps_dbt_script = f'dbt deps --project-dir {project_path} --profiles-dir {project_path} -t {target_name}'\n",
    "    os.system(deps_dbt_script)\n",
    "    inreached_dbt_script = f'{dbt_script} --project-dir {project_path} --profiles-dir {project_path} -t {target_name} --exclude {exclude}'\n",
    "    os.system(inreached_dbt_script)"
   ]
  },
  {
   "cell_type": "code",
   "execution_count": 2,
   "id": "71371243-1d1d-4821-9b1e-f46b947308c0",
   "metadata": {},
   "outputs": [
    {
     "name": "stdout",
     "output_type": "stream",
     "text": [
      "\u001b[0m22:00:08  Running with dbt=1.8.8\n",
      "\u001b[0m22:00:08  Installing ../TrinoIngestionDbt\n",
      "\u001b[0m22:00:08  Installed from <local @ ../TrinoIngestionDbt>\n",
      "\u001b[0m22:00:09  Running with dbt=1.8.8\n",
      "\u001b[0m22:00:09  Registered adapter: postgres=1.8.2\n",
      "\u001b[0m22:00:09  Unable to do partial parsing because profile has changed\n",
      "\u001b[0m22:00:10  [\u001b[33mWARNING\u001b[0m]: Configuration paths exist in your dbt_project.yml file which do not apply to any resources.\n",
      "There are 1 unused configuration paths:\n",
      "- models.PostgresDbt.example\n",
      "\u001b[0m22:00:10  Found 2 models, 1 source, 425 macros\n",
      "\u001b[0m22:00:10  \n",
      "\u001b[0m22:00:10  Concurrency: 1 threads (target='container')\n",
      "\u001b[0m22:00:10  \n",
      "\u001b[0m22:00:10  1 of 1 START sql table model dev_test.maria_db_ingestion_customers ............. [RUN]\n",
      "\u001b[0m22:00:10  1 of 1 OK created sql table model dev_test.maria_db_ingestion_customers ........ [\u001b[32mSELECT 14\u001b[0m in 0.05s]\n",
      "\u001b[0m22:00:10  \n",
      "\u001b[0m22:00:10  Finished running 1 table model in 0 hours 0 minutes and 0.15 seconds (0.15s).\n",
      "\u001b[0m22:00:10  \n",
      "\u001b[0m22:00:10  \u001b[32mCompleted successfully\u001b[0m\n",
      "\u001b[0m22:00:10  \n",
      "\u001b[0m22:00:10  Done. PASS=1 WARN=0 ERROR=0 SKIP=0 TOTAL=1\n"
     ]
    }
   ],
   "source": [
    "run_dbt_script('dbt build')"
   ]
  }
 ],
 "metadata": {
  "kernelspec": {
   "display_name": "Python 3.11",
   "language": "python",
   "name": "python3.11"
  },
  "language_info": {
   "codemirror_mode": {
    "name": "ipython",
    "version": 3
   },
   "file_extension": ".py",
   "mimetype": "text/x-python",
   "name": "python",
   "nbconvert_exporter": "python",
   "pygments_lexer": "ipython3",
   "version": "3.11.10"
  }
 },
 "nbformat": 4,
 "nbformat_minor": 5
}
