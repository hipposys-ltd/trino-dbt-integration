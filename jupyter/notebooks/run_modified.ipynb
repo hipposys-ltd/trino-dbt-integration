{
 "cells": [
  {
   "cell_type": "code",
   "execution_count": 1,
   "id": "a98d2eb8-206b-48d4-8e15-ef0973848926",
   "metadata": {},
   "outputs": [],
   "source": [
    "import os\n",
    "\n",
    "def execute_cmd_command(script):\n",
    "    exit_code = os.system(script)\n",
    "    if exit_code != 0:\n",
    "        raise Exception('cmd failed')\n",
    "\n",
    "def run_trino_dbt_script(dbt_script):\n",
    "    project_path = '../dbt/TrinoIngestionDbt'\n",
    "    target_name = 'container'\n",
    "    manifest_path = 'manifest_prod'\n",
    "    compare_script = f'--defer --favor-state --state {manifest_path}'\n",
    "    deps_dbt_script = f'dbt deps --project-dir {project_path} --profiles-dir {project_path} -t {target_name} {compare_script}'\n",
    "    execute_cmd_command(deps_dbt_script)\n",
    "    inreached_dbt_script = f'{dbt_script} --project-dir {project_path} --profiles-dir {project_path} -t {target_name} {compare_script}'\n",
    "    execute_cmd_command(inreached_dbt_script)\n",
    "\n",
    "def run_postgres_dbt_script(dbt_script):\n",
    "    project_path = '../dbt/PostgresDbt'\n",
    "    target_name = 'container'\n",
    "    exclude = 'TrinoIngestionDbt'\n",
    "    manifest_path = 'manifest_prod'\n",
    "    # --favor-state\n",
    "    compare_script = f'--defer --state {manifest_path}'\n",
    "    deps_dbt_script = f'dbt deps --project-dir {project_path} --profiles-dir {project_path} -t {target_name} {compare_script}'\n",
    "    execute_cmd_command(deps_dbt_script)\n",
    "    inreached_dbt_script = f'{dbt_script} --project-dir {project_path} --profiles-dir {project_path} -t {target_name} --exclude {exclude} {compare_script}'\n",
    "    execute_cmd_command(inreached_dbt_script)"
   ]
  },
  {
   "cell_type": "code",
   "execution_count": 2,
   "id": "f0abcaa8-428a-4e0d-a010-c799a4a1b9bc",
   "metadata": {},
   "outputs": [
    {
     "name": "stdout",
     "output_type": "stream",
     "text": [
      "\u001b[0m10:20:39  Running with dbt=1.8.8\n",
      "\u001b[0m10:20:39  Warning: No packages were found in packages.yml\n",
      "\u001b[0m10:20:39  Warning: No packages were found in packages.yml\n",
      "\u001b[0m10:20:41  Running with dbt=1.8.8\n",
      "\u001b[0m10:20:41  Registered adapter: trino=1.8.3\n",
      "\u001b[0m10:20:41  Found 1 model, 1 source, 445 macros\n",
      "\u001b[0m10:20:41  The selection criterion 'state:modified+' does not match any enabled nodes\n",
      "\u001b[0m10:20:41  The selection criterion 'state:modified+' does not match any enabled nodes\n",
      "\u001b[0m10:20:41  The selection criterion 'state:modified+' does not match any enabled nodes\n",
      "\u001b[0m10:20:41  \n",
      "\u001b[0m10:20:41  Nothing to do. Try checking your model configs and model specification args\n",
      "\u001b[0m10:20:42  Running with dbt=1.8.8\n",
      "\u001b[0m10:20:42  Installing ../TrinoIngestionDbt\n",
      "\u001b[0m10:20:42  Installed from <local @ ../TrinoIngestionDbt>\n",
      "\u001b[0m10:20:44  Running with dbt=1.8.8\n",
      "\u001b[0m10:20:44  Registered adapter: postgres=1.8.2\n",
      "\u001b[0m10:20:44  [\u001b[33mWARNING\u001b[0m]: Configuration paths exist in your dbt_project.yml file which do not apply to any resources.\n",
      "There are 1 unused configuration paths:\n",
      "- models.PostgresDbt.example\n",
      "\u001b[0m10:20:44  Found 2 models, 1 source, 425 macros\n",
      "\u001b[0m10:20:44  The selection criterion 'state:modified+' does not match any enabled nodes\n",
      "\u001b[0m10:20:44  The selection criterion 'state:modified+' does not match any enabled nodes\n",
      "\u001b[0m10:20:44  The selection criterion 'state:modified+' does not match any enabled nodes\n",
      "\u001b[0m10:20:44  \n",
      "\u001b[0m10:20:44  Nothing to do. Try checking your model configs and model specification args\n"
     ]
    }
   ],
   "source": [
    "os.environ[\"DBT_SCHEMA\"] = \"ci_schema_dbt_999\"\n",
    "run_trino_dbt_script('dbt build --select \"state:modified\"+')\n",
    "run_postgres_dbt_script('dbt build --select \"state:modified\"+')"
   ]
  }
 ],
 "metadata": {
  "kernelspec": {
   "display_name": "Python 3.11",
   "language": "python",
   "name": "python3.11"
  },
  "language_info": {
   "codemirror_mode": {
    "name": "ipython",
    "version": 3
   },
   "file_extension": ".py",
   "mimetype": "text/x-python",
   "name": "python",
   "nbconvert_exporter": "python",
   "pygments_lexer": "ipython3",
   "version": "3.11.10"
  }
 },
 "nbformat": 4,
 "nbformat_minor": 5
}
