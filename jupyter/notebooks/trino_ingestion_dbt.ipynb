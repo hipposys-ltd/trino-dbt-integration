{
 "cells": [
  {
   "cell_type": "code",
   "execution_count": 3,
   "id": "b4e24ef7-b446-4c78-b117-d4b3014212ed",
   "metadata": {},
   "outputs": [],
   "source": [
    "import os\n",
    "\n",
    "def run_dbt_script(dbt_script):\n",
    "    project_path = '../dbt/TrinoIngestionDbt'\n",
    "    target_name = 'container'\n",
    "    deps_dbt_script = f'dbt deps --project-dir {project_path} --profiles-dir {project_path} -t {target_name}'\n",
    "    os.system(deps_dbt_script)\n",
    "    inreached_dbt_script = f'{dbt_script} --project-dir {project_path} --profiles-dir {project_path} -t {target_name}'\n",
    "    os.system(inreached_dbt_script)"
   ]
  },
  {
   "cell_type": "code",
   "execution_count": 4,
   "id": "71371243-1d1d-4821-9b1e-f46b947308c0",
   "metadata": {},
   "outputs": [
    {
     "name": "stdout",
     "output_type": "stream",
     "text": [
      "\u001b[0m15:04:17  Running with dbt=1.8.8\n",
      "\u001b[0m15:04:17  Warning: No packages were found in packages.yml\n",
      "\u001b[0m15:04:17  Warning: No packages were found in packages.yml\n",
      "\u001b[0m15:04:19  Running with dbt=1.8.8\n",
      "\u001b[0m15:04:19  Registered adapter: trino=1.8.3\n",
      "\u001b[0m15:04:19  Found 1 model, 1 source, 445 macros\n",
      "\u001b[0m15:04:19  \n",
      "\u001b[0m15:04:19  Concurrency: 1 threads (target='container')\n",
      "\u001b[0m15:04:19  \n",
      "\u001b[0m15:04:19  1 of 1 START sql table model dev_test_data_ingestion.ingestion_customers ....... [RUN]\n",
      "\u001b[0m15:04:20  1 of 1 OK created sql table model dev_test_data_ingestion.ingestion_customers .. [\u001b[32mCREATE TABLE (14 rows)\u001b[0m in 0.26s]\n",
      "\u001b[0m15:04:20  \n",
      "\u001b[0m15:04:20  Finished running 1 table model in 0 hours 0 minutes and 0.43 seconds (0.43s).\n",
      "\u001b[0m15:04:20  \n",
      "\u001b[0m15:04:20  \u001b[32mCompleted successfully\u001b[0m\n",
      "\u001b[0m15:04:20  \n",
      "\u001b[0m15:04:20  Done. PASS=1 WARN=0 ERROR=0 SKIP=0 TOTAL=1\n"
     ]
    }
   ],
   "source": [
    "run_dbt_script('dbt build --select data_ingestion')"
   ]
  }
 ],
 "metadata": {
  "kernelspec": {
   "display_name": "Python 3.11",
   "language": "python",
   "name": "python3.11"
  },
  "language_info": {
   "codemirror_mode": {
    "name": "ipython",
    "version": 3
   },
   "file_extension": ".py",
   "mimetype": "text/x-python",
   "name": "python",
   "nbconvert_exporter": "python",
   "pygments_lexer": "ipython3",
   "version": "3.11.10"
  }
 },
 "nbformat": 4,
 "nbformat_minor": 5
}
